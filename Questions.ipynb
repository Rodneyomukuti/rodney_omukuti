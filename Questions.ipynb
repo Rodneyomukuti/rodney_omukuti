{
 "cells": [
  {
   "cell_type": "markdown",
   "id": "30bd47aa-ab53-44e7-8887-fe9da4756654",
   "metadata": {},
   "source": [
    "Question: Write a program which accepts a sequence of comma-separated numbers from console and generate a list and a tuple which contains every number. Suppose the following input is supplied to the program: 34,67,55,33,12,98 Then, the output should be: ['34', '67', '55', '33', '12', '98'] ('34', '67', '55', '33', '12', '98')\n",
    "\n",
    "Hints: In case of input data being supplied to the question, it should be assumed to be a console input. tuple() method can convert list to tuple"
   ]
  },
  {
   "cell_type": "code",
   "execution_count": 1,
   "id": "4f15f3dd-04c6-422c-ab72-3fd146cef8a9",
   "metadata": {},
   "outputs": [
    {
     "name": "stdin",
     "output_type": "stream",
     "text": [
      "34,67,55,33,12,98:\n",
      " 34,67,55,33,12,98\n"
     ]
    },
    {
     "name": "stdout",
     "output_type": "stream",
     "text": [
      "['34', '67', '55', '33', '12', '98']\n"
     ]
    }
   ],
   "source": [
    "values = input(\"34,67,55,33,12,98:\\n\").split(\",\")\n",
    "print(values) #This is the list"
   ]
  },
  {
   "cell_type": "markdown",
   "id": "3782c310-6cd9-4d66-b568-8b7fa90a4582",
   "metadata": {},
   "source": [
    "Question£º Write a program that accepts sequence of lines as input and prints the lines after making all characters in the sentence capitalized. Suppose the following input is supplied to the program: Hello world Practice makes perfect Then, the output should be: HELLO WORLD PRACTICE MAKES PERFECT"
   ]
  },
  {
   "cell_type": "code",
   "execution_count": 2,
   "id": "4cd894f7-0a88-41f1-a29c-2bb83440bc3c",
   "metadata": {},
   "outputs": [
    {
     "name": "stdin",
     "output_type": "stream",
     "text": [
      " Hello world Practice makes perfect\n",
      " print\n",
      " \n"
     ]
    },
    {
     "name": "stdout",
     "output_type": "stream",
     "text": [
      "Hello world Practice makes perfect\n",
      "HELLO WORLD PRACTICE MAKES PERFECT\n",
      "PRINT\n"
     ]
    }
   ],
   "source": [
    "lines = [\"Hello world Practice makes perfect\"]\n",
    "while True:\n",
    "    s = input()\n",
    "    if s:\n",
    "        lines.append(s.upper())\n",
    "    else:\n",
    "        break;\n",
    "\n",
    "for sentence in lines:\n",
    "    print(sentence)"
   ]
  },
  {
   "cell_type": "markdown",
   "id": "0167c766-268f-4da3-9b38-4f19289cf476",
   "metadata": {},
   "source": [
    "Question: Write a program that accepts a sentence and calculate the number of upper case letters and lower case letters. Suppose the following input is supplied to the program: Hello world! Then, the output should be: UPPER CASE 1 LOWER CASE 9"
   ]
  },
  {
   "cell_type": "code",
   "execution_count": 3,
   "id": "191aca9b-2304-49eb-b3ad-d9751b63eb00",
   "metadata": {},
   "outputs": [
    {
     "name": "stdin",
     "output_type": "stream",
     "text": [
      "Hello world!:  Hello world!\n"
     ]
    },
    {
     "name": "stdout",
     "output_type": "stream",
     "text": [
      "UPPER: 1\n",
      "lower: 9\n"
     ]
    }
   ],
   "source": [
    "phrase = input(\"Hello world!: \")\n",
    "phrase = list(phrase)\n",
    "\n",
    "u, l = 0, 0\n",
    "for i in phrase:\n",
    "    if i.isupper():\n",
    "        u = u + 1\n",
    "    if i.islower():\n",
    "        l = l + 1\n",
    "    else:\n",
    "        pass\n",
    "\n",
    "print(\"UPPER:\", u)\n",
    "print(\"lower:\", l)"
   ]
  },
  {
   "cell_type": "markdown",
   "id": "50891f41-fcb1-4c90-8207-24e7e4cdc77a",
   "metadata": {},
   "source": [
    "Define a function which can compute the sum of two numbers."
   ]
  },
  {
   "cell_type": "code",
   "execution_count": 5,
   "id": "3b53dc21-e31c-4868-8673-ccba817aa63f",
   "metadata": {},
   "outputs": [
    {
     "name": "stdin",
     "output_type": "stream",
     "text": [
      "30: 30\n",
      "20: 20\n"
     ]
    },
    {
     "name": "stdout",
     "output_type": "stream",
     "text": [
      "Sum of the given two numbers is: 50\n"
     ]
    }
   ],
   "source": [
    "x= int(input(\"30:\"))\n",
    "y= int(input(\"20:\"))\n",
    "sum=x+y\n",
    "print(\"Sum of the given two numbers is:\", sum)"
   ]
  },
  {
   "cell_type": "markdown",
   "id": "3d047c8c-bc28-4748-96b6-97d3912402d0",
   "metadata": {},
   "source": [
    "Define a function that can convert a integer into a string and print it in console."
   ]
  },
  {
   "cell_type": "code",
   "execution_count": 8,
   "id": "e4d653bf-f879-4b3d-9d40-6d0c7891d182",
   "metadata": {},
   "outputs": [
    {
     "data": {
      "text/plain": [
       "'100'"
      ]
     },
     "execution_count": 8,
     "metadata": {},
     "output_type": "execute_result"
    }
   ],
   "source": [
    "number = 100\n",
    "number_as_string = str(number)\n",
    "number_as_string"
   ]
  },
  {
   "cell_type": "markdown",
   "id": "49065a45-8a81-4d05-b122-5886b1ec5db2",
   "metadata": {},
   "source": [
    "Define a function that can receive two integral numbers in string form and compute their sum and then print it in console."
   ]
  },
  {
   "cell_type": "code",
   "execution_count": 22,
   "id": "c8cf20c7-6da2-49a7-9011-dcd7f9f696ec",
   "metadata": {},
   "outputs": [
    {
     "name": "stdout",
     "output_type": "stream",
     "text": [
      "Sum =  50\n"
     ]
    }
   ],
   "source": [
    "num1 = \"20\"\n",
    "num2 = \"30\"\n",
    "Sum = (num1 + num2)\n",
    "print (\"Sum = \", sum)"
   ]
  },
  {
   "cell_type": "markdown",
   "id": "a6208217-7bad-4625-9e54-c140ce468523",
   "metadata": {},
   "source": [
    "Define a function that can accept an integer number as input and print the \"It is an even number\" if the number is even, otherwise print \"It is an odd number\"."
   ]
  },
  {
   "cell_type": "code",
   "execution_count": 33,
   "id": "037e4e46-7f64-4cf3-8641-468804e3be5d",
   "metadata": {},
   "outputs": [
    {
     "name": "stdout",
     "output_type": "stream",
     "text": [
      "You picked even number\n",
      "You picked even number\n"
     ]
    }
   ],
   "source": [
    "num = \"68\"\n",
    "for num in num:\n",
    "    if (int(num)%2==0):\n",
    "        print(\"You picked even number\")\n",
    "    else:\n",
    "        print(\"You picked an odd number\")"
   ]
  },
  {
   "cell_type": "markdown",
   "id": "74721451-008e-484b-ae2e-588e021a3005",
   "metadata": {},
   "source": [
    "Define a function which can generate a dictionary where the keys are numbers between 1 and 20 (both included) and the values are square of keys. The function should just print the values only."
   ]
  },
  {
   "cell_type": "code",
   "execution_count": 34,
   "id": "e7c20585-110a-46f4-92bf-d3a6b5ab0c24",
   "metadata": {},
   "outputs": [
    {
     "name": "stdout",
     "output_type": "stream",
     "text": [
      "{1: 1, 2: 4, 3: 9, 4: 16, 5: 25, 6: 36, 7: 49, 8: 64, 9: 81, 10: 100, 11: 121, 12: 144, 13: 169, 14: 196, 15: 225, 16: 256, 17: 289, 18: 324, 19: 361}\n"
     ]
    }
   ],
   "source": [
    "define=dict()\n",
    "for x in range(1,20):\n",
    "    define[x]=x**2\n",
    "print(define)  "
   ]
  },
  {
   "cell_type": "markdown",
   "id": "acbcc293-e0b7-44da-94e0-daebd364b1c6",
   "metadata": {},
   "source": [
    "Write a program which can map() to make a list whose elements are square of elements in [1,2,3,4,5,6,7,8,9,10]."
   ]
  },
  {
   "cell_type": "code",
   "execution_count": 35,
   "id": "097e4352-44d2-4a0a-b3ba-6e4e3a691581",
   "metadata": {},
   "outputs": [
    {
     "name": "stdout",
     "output_type": "stream",
     "text": [
      "Original List:  [1, 2, 3, 4, 5, 6, 7, 8, 9, 10]\n",
      "Square the elements of the said list using map():\n",
      "[1, 4, 9, 16, 25, 36, 49, 64, 81, 100]\n"
     ]
    }
   ],
   "source": [
    "def square_num(n):\n",
    "  return n * n\n",
    "nums = [1,2,3,4,5,6,7,8,9,10]\n",
    "print(\"Original List: \",nums)\n",
    "result = map(square_num, nums)\n",
    "print(\"Square the elements of the said list using map():\")\n",
    "print(list(result))"
   ]
  },
  {
   "cell_type": "markdown",
   "id": "8853c212-291f-421c-8339-5de83feb2c66",
   "metadata": {},
   "source": [
    "Write a program which can map() and filter() to make a list whose elements are square of even number in [1,2,3,4,5,6,7,8,9,10]."
   ]
  },
  {
   "cell_type": "code",
   "execution_count": 42,
   "id": "5613e50d-64e0-46f3-8c11-6057b27d76e5",
   "metadata": {},
   "outputs": [
    {
     "name": "stdout",
     "output_type": "stream",
     "text": [
      "[4, 16, 36, 64, 100]\n"
     ]
    }
   ],
   "source": [
    "list_num = [1,2,3,4,5,6,7,8,9,10]\n",
    " \n",
    "eve_num = map(lambda x: x**2, filter(lambda   x: x%2==0, list_num))\n",
    " \n",
    "print(list(eve_num))\n",
    " "
   ]
  }
 ],
 "metadata": {
  "kernelspec": {
   "display_name": "Python 3",
   "language": "python",
   "name": "python3"
  },
  "language_info": {
   "codemirror_mode": {
    "name": "ipython",
    "version": 3
   },
   "file_extension": ".py",
   "mimetype": "text/x-python",
   "name": "python",
   "nbconvert_exporter": "python",
   "pygments_lexer": "ipython3",
   "version": "3.9.7"
  }
 },
 "nbformat": 4,
 "nbformat_minor": 5
}
